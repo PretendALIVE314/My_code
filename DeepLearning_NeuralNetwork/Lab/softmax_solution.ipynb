{
  "cells": [
    {
      "cell_type": "code",
      "execution_count": null,
      "id": "d8aaae81",
      "metadata": {
        "id": "d8aaae81",
        "colab": {
          "base_uri": "https://localhost:8080/"
        },
        "outputId": "937b6c44-da40-4560-ca5c-47ff9dfc340e"
      },
      "outputs": [
        {
          "output_type": "stream",
          "name": "stdout",
          "text": [
            "Mounted at /content/drive\n",
            "/content/drive/My Drive/Coding Lab2-2024-2025S2/cs231n/datasets\n",
            "/content/drive/My Drive/Coding Lab2-2024-2025S2\n"
          ]
        }
      ],
      "source": [
        "# This mounts your Google Drive to the Colab VM.\n",
        "from google.colab import drive\n",
        "drive.mount('/content/drive')\n",
        "\n",
        "# TODO: Enter the foldername in your Drive where you have saved the unzipped\n",
        "# assignment folder, e.g. 'cs231n/assignments/assignment1/'\n",
        "FOLDERNAME = 'Coding Lab2-2024-2025S2'\n",
        "assert FOLDERNAME is not None, \"[!] Enter the foldername.\"\n",
        "\n",
        "# Now that we've mounted your Drive, this ensures that\n",
        "# the Python interpreter of the Colab VM can load\n",
        "# python files from within it.\n",
        "import sys\n",
        "sys.path.append('/content/drive/My Drive/{}'.format(FOLDERNAME))\n",
        "\n",
        "# This downloads the CIFAR-10 dataset to your Drive\n",
        "# if it doesn't already exist.\n",
        "%cd /content/drive/My\\ Drive/$FOLDERNAME/cs231n/datasets/\n",
        "!bash get_datasets.sh\n",
        "%cd /content/drive/My\\ Drive/$FOLDERNAME"
      ]
    },
    {
      "cell_type": "markdown",
      "id": "e2c3cfa1",
      "metadata": {
        "tags": [
          "pdf-title"
        ],
        "id": "e2c3cfa1"
      },
      "source": [
        "# Softmax exercise\n",
        "\n",
        "*Complete and hand in this completed worksheet (including its outputs and any supporting code outside of the worksheet) with your assignment submission. For more details see the [assignments page](http://vision.stanford.edu/teaching/cs231n/assignments.html) on the course website.*\n",
        "\n",
        "This exercise is analogous to the SVM exercise. You will:\n",
        "\n",
        "- implement a fully-vectorized **loss function** for the Softmax classifier\n",
        "- implement the fully-vectorized expression for its **analytic gradient**\n",
        "- **check your implementation** with numerical gradient\n",
        "- use a validation set to **tune the learning rate and regularization** strength\n",
        "- **optimize** the loss function with **SGD**\n",
        "- **visualize** the final learned weights\n"
      ]
    },
    {
      "cell_type": "code",
      "execution_count": null,
      "id": "c55a72bf",
      "metadata": {
        "tags": [
          "pdf-ignore"
        ],
        "id": "c55a72bf"
      },
      "outputs": [],
      "source": [
        "import random\n",
        "import numpy as np\n",
        "from cs231n.data_utils import load_CIFAR10\n",
        "import matplotlib.pyplot as plt\n",
        "\n",
        "%matplotlib inline\n",
        "plt.rcParams['figure.figsize'] = (10.0, 8.0) # set default size of plots\n",
        "plt.rcParams['image.interpolation'] = 'nearest'\n",
        "plt.rcParams['image.cmap'] = 'gray'\n",
        "\n",
        "# for auto-reloading extenrnal modules\n",
        "# see http://stackoverflow.com/questions/1907993/autoreload-of-modules-in-ipython\n",
        "%load_ext autoreload\n",
        "%autoreload 2"
      ]
    },
    {
      "cell_type": "code",
      "execution_count": null,
      "id": "b99594ec",
      "metadata": {
        "tags": [
          "pdf-ignore"
        ],
        "id": "b99594ec",
        "colab": {
          "base_uri": "https://localhost:8080/"
        },
        "outputId": "a5bf4192-a27f-464f-bcc9-dce416614175"
      },
      "outputs": [
        {
          "output_type": "stream",
          "name": "stdout",
          "text": [
            "Train data shape:  (49000, 3073)\n",
            "Train labels shape:  (49000,)\n",
            "Validation data shape:  (1000, 3073)\n",
            "Validation labels shape:  (1000,)\n",
            "Test data shape:  (1000, 3073)\n",
            "Test labels shape:  (1000,)\n",
            "dev data shape:  (500, 3073)\n",
            "dev labels shape:  (500,)\n"
          ]
        }
      ],
      "source": [
        "def get_CIFAR10_data(num_training=49000, num_validation=1000, num_test=1000, num_dev=500):\n",
        "    \"\"\"\n",
        "    Load the CIFAR-10 dataset from disk and perform preprocessing to prepare\n",
        "    it for the linear classifier. These are the same steps as we used for the\n",
        "    SVM, but condensed to a single function.\n",
        "    \"\"\"\n",
        "    # Load the raw CIFAR-10 data\n",
        "    cifar10_dir = 'cs231n/datasets/cifar-10-batches-py'\n",
        "\n",
        "    # Cleaning up variables to prevent loading data multiple times (which may cause memory issue)\n",
        "    try:\n",
        "       del X_train, y_train\n",
        "       del X_test, y_test\n",
        "       print('Clear previously loaded data.')\n",
        "    except:\n",
        "       pass\n",
        "\n",
        "    X_train, y_train, X_test, y_test = load_CIFAR10(cifar10_dir)\n",
        "\n",
        "    # subsample the data\n",
        "    mask = list(range(num_training, num_training + num_validation))\n",
        "    X_val = X_train[mask]\n",
        "    y_val = y_train[mask]\n",
        "    mask = list(range(num_training))\n",
        "    X_train = X_train[mask]\n",
        "    y_train = y_train[mask]\n",
        "    mask = list(range(num_test))\n",
        "    X_test = X_test[mask]\n",
        "    y_test = y_test[mask]\n",
        "    mask = np.random.choice(num_training, num_dev, replace=False)\n",
        "    X_dev = X_train[mask]\n",
        "    y_dev = y_train[mask]\n",
        "\n",
        "    # Preprocessing: reshape the image data into rows\n",
        "    X_train = np.reshape(X_train, (X_train.shape[0], -1))\n",
        "    X_val = np.reshape(X_val, (X_val.shape[0], -1))\n",
        "    X_test = np.reshape(X_test, (X_test.shape[0], -1))\n",
        "    X_dev = np.reshape(X_dev, (X_dev.shape[0], -1))\n",
        "\n",
        "    # Normalize the data: subtract the mean image\n",
        "    mean_image = np.mean(X_train, axis = 0)\n",
        "    X_train -= mean_image\n",
        "    X_val -= mean_image\n",
        "    X_test -= mean_image\n",
        "    X_dev -= mean_image\n",
        "\n",
        "    # add bias dimension and transform into columns\n",
        "    X_train = np.hstack([X_train, np.ones((X_train.shape[0], 1))])\n",
        "    X_val = np.hstack([X_val, np.ones((X_val.shape[0], 1))])\n",
        "    X_test = np.hstack([X_test, np.ones((X_test.shape[0], 1))])\n",
        "    X_dev = np.hstack([X_dev, np.ones((X_dev.shape[0], 1))])\n",
        "\n",
        "    return X_train, y_train, X_val, y_val, X_test, y_test, X_dev, y_dev\n",
        "\n",
        "\n",
        "# Invoke the above function to get our data.\n",
        "X_train, y_train, X_val, y_val, X_test, y_test, X_dev, y_dev = get_CIFAR10_data()\n",
        "print('Train data shape: ', X_train.shape)\n",
        "print('Train labels shape: ', y_train.shape)\n",
        "print('Validation data shape: ', X_val.shape)\n",
        "print('Validation labels shape: ', y_val.shape)\n",
        "print('Test data shape: ', X_test.shape)\n",
        "print('Test labels shape: ', y_test.shape)\n",
        "print('dev data shape: ', X_dev.shape)\n",
        "print('dev labels shape: ', y_dev.shape)"
      ]
    },
    {
      "cell_type": "markdown",
      "id": "2713b7f4",
      "metadata": {
        "id": "2713b7f4"
      },
      "source": [
        "## Softmax Classifier\n",
        "\n",
        "Your code for this section will all be written inside `cs231n/classifiers/softmax.py`.\n"
      ]
    },
    {
      "cell_type": "code",
      "execution_count": null,
      "id": "6168f67e",
      "metadata": {
        "id": "6168f67e",
        "colab": {
          "base_uri": "https://localhost:8080/"
        },
        "outputId": "0c42d268-37f8-459f-de18-50c1c02af40d"
      },
      "outputs": [
        {
          "output_type": "stream",
          "name": "stdout",
          "text": [
            "loss: 2.354799\n",
            "sanity check: 2.302585\n"
          ]
        }
      ],
      "source": [
        "# First implement the naive softmax loss function with nested loops.\n",
        "# Open the file cs231n/classifiers/softmax.py and implement the\n",
        "# softmax_loss_naive function.\n",
        "\n",
        "from cs231n.classifiers.softmax import softmax_loss_naive, softmax_loss_vectorized\n",
        "import time\n",
        "\n",
        "# Generate a random softmax weight matrix and use it to compute the loss.\n",
        "W = np.random.randn(3073, 10) * 0.0001\n",
        "loss, grad = softmax_loss_naive(W, X_dev, y_dev, 0.0)\n",
        "# loss, grad = softmax_loss_vectorized(W, X_dev, y_dev, 0.0)\n",
        "\n",
        "# As a rough sanity check, our loss should be something close to -log(0.1).\n",
        "print('loss: %f' % loss)\n",
        "print('sanity check: %f' % (-np.log(0.1)))"
      ]
    },
    {
      "cell_type": "markdown",
      "source": [],
      "metadata": {
        "id": "dGOZvtER_ix8"
      },
      "id": "dGOZvtER_ix8"
    },
    {
      "cell_type": "markdown",
      "id": "b35bc604",
      "metadata": {
        "tags": [
          "pdf-inline"
        ],
        "id": "b35bc604"
      },
      "source": [
        "**Inline Question 1**\n",
        "\n",
        "Why do we expect our loss to be close to -log(0.1)? Explain briefly.**\n",
        "\n",
        "$\\color{blue}{\\textit Your Answer:}$ *Fill this in*\n",
        "\n"
      ]
    },
    {
      "cell_type": "code",
      "execution_count": null,
      "id": "b7bef674",
      "metadata": {
        "id": "b7bef674",
        "colab": {
          "base_uri": "https://localhost:8080/"
        },
        "outputId": "a3e3d2d0-bc19-47ca-d9f4-18a40589e44a"
      },
      "outputs": [
        {
          "output_type": "stream",
          "name": "stdout",
          "text": [
            "numerical: -3.007276 analytic: -3.007276, relative error: 7.836093e-09\n",
            "numerical: -4.285553 analytic: -4.285553, relative error: 1.221827e-08\n",
            "numerical: 1.060167 analytic: 1.060167, relative error: 6.577137e-08\n",
            "numerical: 2.159965 analytic: 2.159965, relative error: 5.681636e-09\n",
            "numerical: 1.450932 analytic: 1.450932, relative error: 3.360345e-08\n",
            "numerical: 2.925535 analytic: 2.925535, relative error: 2.532425e-08\n",
            "numerical: 0.101629 analytic: 0.101628, relative error: 7.646376e-07\n",
            "numerical: 1.893880 analytic: 1.893880, relative error: 5.552058e-09\n",
            "numerical: -0.221392 analytic: -0.221392, relative error: 1.492699e-07\n",
            "numerical: 1.630937 analytic: 1.630936, relative error: 5.954216e-08\n",
            "numerical: 0.517753 analytic: 0.517753, relative error: 1.478246e-08\n",
            "numerical: 1.313923 analytic: 1.313923, relative error: 4.674460e-08\n",
            "numerical: 1.248659 analytic: 1.248658, relative error: 4.668558e-08\n",
            "numerical: -1.688354 analytic: -1.688354, relative error: 2.941526e-08\n",
            "numerical: -0.007076 analytic: -0.007076, relative error: 1.383491e-05\n",
            "numerical: 0.312612 analytic: 0.312612, relative error: 1.239656e-07\n",
            "numerical: 0.628001 analytic: 0.628001, relative error: 5.477959e-08\n",
            "numerical: -2.513859 analytic: -2.513859, relative error: 1.857737e-08\n",
            "numerical: 0.821222 analytic: 0.821222, relative error: 1.655533e-08\n",
            "numerical: -1.521643 analytic: -1.521643, relative error: 7.077454e-09\n"
          ]
        }
      ],
      "source": [
        "# Complete the implementation of softmax_loss_naive and implement a (naive)\n",
        "# version of the gradient that uses nested loops.\n",
        "loss, grad = softmax_loss_naive(W, X_dev, y_dev, 0.0)\n",
        "\n",
        "# As we did for the SVM, use numeric gradient checking as a debugging tool.\n",
        "# The numeric gradient should be close to the analytic gradient.\n",
        "from cs231n.gradient_check import grad_check_sparse\n",
        "f = lambda w: softmax_loss_naive(w, X_dev, y_dev, 0.0)[0]\n",
        "grad_numerical = grad_check_sparse(f, W, grad, 10)\n",
        "\n",
        "# similar to SVM case, do another gradient check with regularization\n",
        "loss, grad = softmax_loss_naive(W, X_dev, y_dev, 5e1)\n",
        "f = lambda w: softmax_loss_naive(w, X_dev, y_dev, 5e1)[0]\n",
        "grad_numerical = grad_check_sparse(f, W, grad, 10)"
      ]
    },
    {
      "cell_type": "code",
      "execution_count": null,
      "id": "3994f8a3",
      "metadata": {
        "id": "3994f8a3",
        "colab": {
          "base_uri": "https://localhost:8080/"
        },
        "outputId": "98004086-a1ab-4a49-bf8e-f4e9ea4618b7"
      },
      "outputs": [
        {
          "output_type": "stream",
          "name": "stdout",
          "text": [
            "naive loss: 2.354799e+00 computed in 0.125666s\n",
            "vectorized loss: 2.354799e+00 computed in 0.025749s\n",
            "Loss difference: 0.000000\n",
            "Gradient difference: 0.000000\n"
          ]
        }
      ],
      "source": [
        "# Now that we have a naive implementation of the softmax loss function and its gradient,\n",
        "# implement a vectorized version in softmax_loss_vectorized.\n",
        "# The two versions should compute the same results, but the vectorized version should be\n",
        "# much faster.\n",
        "tic = time.time()\n",
        "loss_naive, grad_naive = softmax_loss_naive(W, X_dev, y_dev, 0.000005)\n",
        "toc = time.time()\n",
        "print('naive loss: %e computed in %fs' % (loss_naive, toc - tic))\n",
        "\n",
        "from cs231n.classifiers.softmax import softmax_loss_vectorized\n",
        "tic = time.time()\n",
        "loss_vectorized, grad_vectorized = softmax_loss_vectorized(W, X_dev, y_dev, 0.000005)\n",
        "toc = time.time()\n",
        "print('vectorized loss: %e computed in %fs' % (loss_vectorized, toc - tic))\n",
        "\n",
        "# As we did for the SVM, we use the Frobenius norm to compare the two versions\n",
        "# of the gradient.\n",
        "grad_difference = np.linalg.norm(grad_naive - grad_vectorized, ord='fro')\n",
        "print('Loss difference: %f' % np.abs(loss_naive - loss_vectorized))\n",
        "print('Gradient difference: %f' % grad_difference)"
      ]
    },
    {
      "cell_type": "code",
      "execution_count": null,
      "id": "bd171311",
      "metadata": {
        "tags": [
          "code"
        ],
        "test": "tuning",
        "id": "bd171311",
        "colab": {
          "base_uri": "https://localhost:8080/"
        },
        "outputId": "4291304f-1d62-4d58-d1aa-0042638f7356"
      },
      "outputs": [
        {
          "output_type": "stream",
          "name": "stdout",
          "text": [
            "iteration 0 / 2000: loss 36.401397\n",
            "iteration 100 / 2000: loss 33.497964\n",
            "iteration 200 / 2000: loss 31.730927\n",
            "iteration 300 / 2000: loss 30.576154\n",
            "iteration 400 / 2000: loss 29.537329\n",
            "iteration 500 / 2000: loss 27.944410\n",
            "iteration 600 / 2000: loss 27.044025\n",
            "iteration 700 / 2000: loss 25.914664\n",
            "iteration 800 / 2000: loss 24.661078\n",
            "iteration 900 / 2000: loss 23.984454\n",
            "iteration 1000 / 2000: loss 23.107998\n",
            "iteration 1100 / 2000: loss 22.103604\n",
            "iteration 1200 / 2000: loss 21.141694\n",
            "iteration 1300 / 2000: loss 20.428285\n",
            "iteration 1400 / 2000: loss 19.780232\n",
            "iteration 1500 / 2000: loss 19.064228\n",
            "iteration 1600 / 2000: loss 18.339283\n",
            "iteration 1700 / 2000: loss 17.609269\n",
            "iteration 1800 / 2000: loss 16.951558\n",
            "iteration 1900 / 2000: loss 16.323728\n",
            "iteration 0 / 2000: loss 312.166624\n",
            "iteration 100 / 2000: loss 208.581236\n",
            "iteration 200 / 2000: loss 139.779989\n",
            "iteration 300 / 2000: loss 94.107143\n",
            "iteration 400 / 2000: loss 63.602294\n",
            "iteration 500 / 2000: loss 43.167509\n",
            "iteration 600 / 2000: loss 29.580014\n",
            "iteration 700 / 2000: loss 20.501682\n",
            "iteration 800 / 2000: loss 14.299224\n",
            "iteration 900 / 2000: loss 10.254693\n",
            "iteration 1000 / 2000: loss 7.595282\n",
            "iteration 1100 / 2000: loss 5.702646\n",
            "iteration 1200 / 2000: loss 4.528511\n",
            "iteration 1300 / 2000: loss 3.667378\n",
            "iteration 1400 / 2000: loss 3.153894\n",
            "iteration 1500 / 2000: loss 2.694778\n",
            "iteration 1600 / 2000: loss 2.480782\n",
            "iteration 1700 / 2000: loss 2.376997\n",
            "iteration 1800 / 2000: loss 2.243679\n",
            "iteration 1900 / 2000: loss 2.189845\n",
            "iteration 0 / 2000: loss 37.254327\n",
            "iteration 100 / 2000: loss 27.941824\n",
            "iteration 200 / 2000: loss 23.081552\n",
            "iteration 300 / 2000: loss 18.842729\n",
            "iteration 400 / 2000: loss 15.671120\n",
            "iteration 500 / 2000: loss 13.019696\n",
            "iteration 600 / 2000: loss 10.962384\n",
            "iteration 700 / 2000: loss 9.383575\n",
            "iteration 800 / 2000: loss 7.807412\n",
            "iteration 900 / 2000: loss 6.893328\n",
            "iteration 1000 / 2000: loss 5.848128\n",
            "iteration 1100 / 2000: loss 5.026431\n",
            "iteration 1200 / 2000: loss 4.522484\n",
            "iteration 1300 / 2000: loss 3.962271\n",
            "iteration 1400 / 2000: loss 3.560800\n",
            "iteration 1500 / 2000: loss 3.316886\n",
            "iteration 1600 / 2000: loss 3.078730\n",
            "iteration 1700 / 2000: loss 2.767941\n",
            "iteration 1800 / 2000: loss 2.563829\n",
            "iteration 1900 / 2000: loss 2.450856\n",
            "iteration 0 / 2000: loss 311.034696\n",
            "iteration 100 / 2000: loss 42.779862\n",
            "iteration 200 / 2000: loss 7.436306\n",
            "iteration 300 / 2000: loss 2.714647\n",
            "iteration 400 / 2000: loss 2.103756\n",
            "iteration 500 / 2000: loss 2.021133\n",
            "iteration 600 / 2000: loss 1.984620\n",
            "iteration 700 / 2000: loss 2.028847\n",
            "iteration 800 / 2000: loss 1.916810\n",
            "iteration 900 / 2000: loss 2.034372\n",
            "iteration 1000 / 2000: loss 1.951525\n",
            "iteration 1100 / 2000: loss 2.023722\n",
            "iteration 1200 / 2000: loss 1.956139\n",
            "iteration 1300 / 2000: loss 2.067215\n",
            "iteration 1400 / 2000: loss 2.009141\n",
            "iteration 1500 / 2000: loss 2.069125\n",
            "iteration 1600 / 2000: loss 2.034182\n",
            "iteration 1700 / 2000: loss 1.945728\n",
            "iteration 1800 / 2000: loss 1.972351\n",
            "iteration 1900 / 2000: loss 1.987015\n",
            "iteration 0 / 2000: loss 35.872166\n",
            "iteration 100 / 2000: loss 22.788722\n",
            "iteration 200 / 2000: loss 15.525329\n",
            "iteration 300 / 2000: loss 11.098776\n",
            "iteration 400 / 2000: loss 7.891183\n",
            "iteration 500 / 2000: loss 5.763571\n",
            "iteration 600 / 2000: loss 4.491772\n",
            "iteration 700 / 2000: loss 3.497362\n",
            "iteration 800 / 2000: loss 3.007071\n",
            "iteration 900 / 2000: loss 2.574372\n",
            "iteration 1000 / 2000: loss 2.259078\n",
            "iteration 1100 / 2000: loss 2.186257\n",
            "iteration 1200 / 2000: loss 2.112985\n",
            "iteration 1300 / 2000: loss 1.966525\n",
            "iteration 1400 / 2000: loss 1.822678\n",
            "iteration 1500 / 2000: loss 1.919335\n",
            "iteration 1600 / 2000: loss 1.861687\n",
            "iteration 1700 / 2000: loss 1.816083\n",
            "iteration 1800 / 2000: loss 1.828014\n",
            "iteration 1900 / 2000: loss 1.839231\n",
            "iteration 0 / 2000: loss 315.310864\n",
            "iteration 100 / 2000: loss 7.458427\n",
            "iteration 200 / 2000: loss 2.135653\n",
            "iteration 300 / 2000: loss 1.980192\n",
            "iteration 400 / 2000: loss 1.933431\n",
            "iteration 500 / 2000: loss 2.045197\n",
            "iteration 600 / 2000: loss 2.050895\n",
            "iteration 700 / 2000: loss 2.004394\n",
            "iteration 800 / 2000: loss 1.989093\n",
            "iteration 900 / 2000: loss 1.924099\n",
            "iteration 1000 / 2000: loss 2.035226\n",
            "iteration 1100 / 2000: loss 2.009727\n",
            "iteration 1200 / 2000: loss 2.029017\n",
            "iteration 1300 / 2000: loss 2.024345\n",
            "iteration 1400 / 2000: loss 2.042977\n",
            "iteration 1500 / 2000: loss 1.959651\n",
            "iteration 1600 / 2000: loss 2.064029\n",
            "iteration 1700 / 2000: loss 2.040969\n",
            "iteration 1800 / 2000: loss 2.061223\n",
            "iteration 1900 / 2000: loss 2.064410\n",
            "lr 1.000000e-07 reg 1.000000e+03 train accuracy: 0.283735 val accuracy: 0.287000\n",
            "lr 1.000000e-07 reg 1.000000e+04 train accuracy: 0.356469 val accuracy: 0.366000\n",
            "lr 5.000000e-07 reg 1.000000e+03 train accuracy: 0.399469 val accuracy: 0.397000\n",
            "lr 5.000000e-07 reg 1.000000e+04 train accuracy: 0.357551 val accuracy: 0.371000\n",
            "lr 1.000000e-06 reg 1.000000e+03 train accuracy: 0.398020 val accuracy: 0.399000\n",
            "lr 1.000000e-06 reg 1.000000e+04 train accuracy: 0.337898 val accuracy: 0.346000\n",
            "best validation accuracy achieved during cross-validation: 0.399000\n"
          ]
        }
      ],
      "source": [
        "# Use the validation set to tune hyperparameters (regularization strength and\n",
        "# learning rate). You should experiment with different ranges for the learning\n",
        "# rates and regularization strengths; if you are careful you should be able to\n",
        "# get a classification accuracy of over 0.35 on the validation set.\n",
        "\n",
        "from cs231n.classifiers import Softmax\n",
        "results = {}\n",
        "best_val = -1\n",
        "best_softmax = None\n",
        "\n",
        "################################################################################\n",
        "# TODO:                                                                        #\n",
        "# Use the validation set to set the learning rate and regularization strength. #\n",
        "# This should be identical to the validation that you did for the SVM; save    #\n",
        "# the best trained softmax classifer in best_softmax.                          #\n",
        "################################################################################\n",
        "\n",
        "# Provided as a reference. You may or may not want to change these hyperparameters\n",
        "learning_rates = [1e-7, 5e-7, 1e-6]\n",
        "regularization_strengths = [1e3, 1e4] # [2.5e4, 5e4]\n",
        "\n",
        "# *****START OF YOUR CODE (DO NOT DELETE/MODIFY THIS LINE)*****\n",
        "for lr in learning_rates:\n",
        "  for rg in regularization_strengths:\n",
        "    sftmax = Softmax()\n",
        "    _ = sftmax.train(X_train, y_train, learning_rate=lr, reg=rg,\n",
        "                      num_iters=2000, verbose=True)\n",
        "    y_train_pred = sftmax.predict(X_train)\n",
        "    y_val_pred = sftmax.predict(X_val)\n",
        "    train_acc, val_acc = np.mean(y_train == y_train_pred), np.mean(y_val == y_val_pred)\n",
        "    results[(lr, rg)] = (train_acc, val_acc)\n",
        "\n",
        "    if val_acc > best_val:\n",
        "      best_val = val_acc\n",
        "      best_softmax = sftmax\n",
        "# pass\n",
        "\n",
        "# *****END OF YOUR CODE (DO NOT DELETE/MODIFY THIS LINE)*****\n",
        "\n",
        "# Print out results.\n",
        "for lr, reg in sorted(results):\n",
        "    train_accuracy, val_accuracy = results[(lr, reg)]\n",
        "    print('lr %e reg %e train accuracy: %f val accuracy: %f' % (\n",
        "                lr, reg, train_accuracy, val_accuracy))\n",
        "\n",
        "print('best validation accuracy achieved during cross-validation: %f' % best_val)"
      ]
    },
    {
      "cell_type": "code",
      "execution_count": null,
      "id": "f94a8f12",
      "metadata": {
        "test": "test",
        "id": "f94a8f12",
        "colab": {
          "base_uri": "https://localhost:8080/"
        },
        "outputId": "58738342-ac0e-4589-e281-fa7d49b68901"
      },
      "outputs": [
        {
          "output_type": "stream",
          "name": "stdout",
          "text": [
            "softmax on raw pixels final test set accuracy: 0.385000\n"
          ]
        }
      ],
      "source": [
        "# evaluate on test set\n",
        "# Evaluate the best softmax on test set\n",
        "y_test_pred = best_softmax.predict(X_test)\n",
        "test_accuracy = np.mean(y_test == y_test_pred)\n",
        "print('softmax on raw pixels final test set accuracy: %f' % (test_accuracy, ))"
      ]
    },
    {
      "cell_type": "markdown",
      "id": "7e2112ee",
      "metadata": {
        "tags": [
          "pdf-inline"
        ],
        "id": "7e2112ee"
      },
      "source": [
        "**Inline Question 2** - *True or False*\n",
        "\n",
        "Suppose the overall training loss is defined as the sum of the per-datapoint loss over all training examples. It is possible to add a new datapoint to a training set that would leave the SVM loss unchanged, but this is not the case with the Softmax classifier loss.\n",
        "\n",
        "$\\color{blue}{\\textit Your Answer:}$\n",
        "\n",
        "\n",
        "$\\color{blue}{\\textit Your Explanation:}$\n",
        "\n"
      ]
    },
    {
      "cell_type": "code",
      "execution_count": null,
      "id": "86d86120",
      "metadata": {
        "id": "86d86120",
        "colab": {
          "base_uri": "https://localhost:8080/",
          "height": 439
        },
        "outputId": "fa516774-7fe8-4283-91d2-3e1d30c47de6"
      },
      "outputs": [
        {
          "output_type": "display_data",
          "data": {
            "text/plain": [
              "<Figure size 1000x800 with 10 Axes>"
            ],
            "image/png": "[encoded data removed]"
          },
          "metadata": {}
        }
      ],
      "source": [
        "# Visualize the learned weights for each class\n",
        "w = best_softmax.W[:-1,:] # strip out the bias\n",
        "w = w.reshape(32, 32, 3, 10)\n",
        "\n",
        "w_min, w_max = np.min(w), np.max(w)\n",
        "\n",
        "classes = ['plane', 'car', 'bird', 'cat', 'deer', 'dog', 'frog', 'horse', 'ship', 'truck']\n",
        "for i in range(10):\n",
        "    plt.subplot(2, 5, i + 1)\n",
        "\n",
        "    # Rescale the weights to be between 0 and 255\n",
        "    wimg = 255.0 * (w[:, :, :, i].squeeze() - w_min) / (w_max - w_min)\n",
        "    plt.imshow(wimg.astype('uint8'))\n",
        "    plt.axis('off')\n",
        "    plt.title(classes[i])"
      ]
    },
    {
      "cell_type": "code",
      "execution_count": null,
      "id": "24688f99",
      "metadata": {
        "id": "24688f99"
      },
      "outputs": [],
      "source": []
    }
  ],
  "metadata": {
    "colab": {
      "provenance": []
    },
    "language_info": {
      "name": "python"
    },
    "kernelspec": {
      "name": "python3",
      "display_name": "Python 3"
    }
  },
  "nbformat": 4,
  "nbformat_minor": 5
}