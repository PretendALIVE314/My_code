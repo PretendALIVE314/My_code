{
 "cells": [
  {
   "cell_type": "markdown",
   "metadata": {},
   "source": [
    "## Read data and perform Random Shuffle\n",
    "First prepare the UCI Iris dataset. Iris is a very classic dataset that is often used to teach and test various algorithms\n",
    "\n",
    "random.shuffle cannot operate the dataframe format directly. Therefore, the dataframe must be converted to the list or array format first.\n",
    "In addition, each section of this report needs to be randomly seeded to ensure that the results are reproducible."
   ]
  },
  {
   "cell_type": "code",
   "execution_count": 3,
   "metadata": {},
   "outputs": [
    {
     "name": "stdout",
     "output_type": "stream",
     "text": [
      "    sepal_length sepal_width petal_length petal_width           class\n",
      "0            5.1         3.5          1.4         0.2     Iris-setosa\n",
      "1            4.9         3.0          1.4         0.2     Iris-setosa\n",
      "2            4.7         3.2          1.3         0.2     Iris-setosa\n",
      "3            4.7         3.2          1.3         0.2     Iris-setosa\n",
      "4            5.0         3.6          1.4         0.2     Iris-setosa\n",
      "..           ...         ...          ...         ...             ...\n",
      "145          6.7         2.5          5.8         1.8  Iris-virginica\n",
      "146          6.3         3.4          5.6         2.4  Iris-virginica\n",
      "147          5.1         3.3          1.7         0.5     Iris-setosa\n",
      "148          6.9         3.2          5.7         2.3  Iris-virginica\n",
      "149          5.0         3.5          1.6         0.6     Iris-setosa\n",
      "\n",
      "[150 rows x 5 columns]\n"
     ]
    }
   ],
   "source": [
    "import numpy as np\n",
    "import pandas as pd\n",
    "import random\n",
    "### Set random seed to ensure that subsequent randomness can be repeated\n",
    "random.seed(324)\n",
    "### The.data file is a comma-separated file that can be read by read_csv\n",
    "df=pd.read_csv('./iris/iris.data',header=None)\n",
    "###The random.shuffle() method can only be used for data in list or array format\n",
    "### Data is converted to both formats\n",
    "df_array=np.array(df)\n",
    "random.shuffle(df_array)\n",
    "### Here the rows in the table have been scrambled\n",
    "iris=pd.DataFrame(df_array,columns=['sepal_length','sepal_width','petal_length','petal_width','class'])## Add col_name\n",
    "print(iris)"
   ]
  },
  {
   "cell_type": "markdown",
   "metadata": {},
   "source": [
    "Remove the class column because it is not needed"
   ]
  },
  {
   "cell_type": "code",
   "execution_count": 4,
   "metadata": {},
   "outputs": [
    {
     "name": "stdout",
     "output_type": "stream",
     "text": [
      "    sepal_length sepal_width petal_length petal_width\n",
      "0            5.1         3.5          1.4         0.2\n",
      "1            4.9         3.0          1.4         0.2\n",
      "2            4.7         3.2          1.3         0.2\n",
      "3            4.7         3.2          1.3         0.2\n",
      "4            5.0         3.6          1.4         0.2\n",
      "..           ...         ...          ...         ...\n",
      "145          6.7         2.5          5.8         1.8\n",
      "146          6.3         3.4          5.6         2.4\n",
      "147          5.1         3.3          1.7         0.5\n",
      "148          6.9         3.2          5.7         2.3\n",
      "149          5.0         3.5          1.6         0.6\n",
      "\n",
      "[150 rows x 4 columns]\n"
     ]
    }
   ],
   "source": [
    "### Remove the class column because it is not needed\n",
    "iris=iris.iloc[:,0:4]\n",
    "print(iris)"
   ]
  },
  {
   "cell_type": "markdown",
   "metadata": {},
   "source": [
    " ### Initialization of the cluster center\n",
    "Shuffle the dataset randomly and choose the first K points. \n",
    "Note that the dataset contains 3 classes, so we set K = 3 for the simplicity.\n",
    "利用 random.randiant()函数生成k个随机数然后在数据集中随机抽取"
   ]
  },
  {
   "cell_type": "code",
   "execution_count": 6,
   "metadata": {},
   "outputs": [
    {
     "name": "stdout",
     "output_type": "stream",
     "text": [
      "[146, 42, 59]\n",
      "    sepal_length sepal_width petal_length petal_width\n",
      "146          6.3         3.4          5.6         2.4\n",
      "42           4.4         2.9          1.4         0.2\n",
      "59           5.1         3.4          1.5         0.2\n"
     ]
    }
   ],
   "source": [
    "random.seed(33)\n",
    "###Generate three random numbers\n",
    "k_index=[]\n",
    "for i in range(0,3):\n",
    "    x=random.randint(0,len(iris))\n",
    "    k_index.append(x)\n",
    "print(k_index) ## generates indexes of first K points\n",
    "first_k_point=iris.iloc[k_index,:]\n",
    "print(first_k_point)"
   ]
  },
  {
   "cell_type": "markdown",
   "metadata": {},
   "source": [
    "This report choose to use Euclidean distance:\n",
    "\n",
    "$$D_n=\\sqrt{\\sum_{i=1}^n{{(x_i-y_i)^2}}}$$\n"
   ]
  },
  {
   "cell_type": "markdown",
   "metadata": {},
   "source": [
    "### Clustering\n",
    "This report requires the use of kmeans algorithm, the algorithm flow of kmeans algorithm is as follows:\n",
    "\n",
    "1. First, select k initial points\n",
    "\n",
    "2. Calculate the distance between each sample point and the center point\n",
    "\n",
    "3. Select the nearest sample point according to the distance\n",
    "\n",
    "4. Add new sample points to the cluster\n",
    "\n",
    "5. Calculate the mean of all points in the cluster and update the center point\n",
    "\n",
    "6. Repeat the above operation until the mean within each clust is no longer changing, that is, the center point is no longer changing\n",
    "\n"
   ]
  },
  {
   "cell_type": "code",
   "execution_count": 7,
   "metadata": {},
   "outputs": [],
   "source": [
    "def compute_distance(point1, point2):  # Calculate Euclidean distance\n",
    "    return np.sqrt(np.sum((point1 - point2) ** 2))"
   ]
  },
  {
   "cell_type": "code",
   "execution_count": 8,
   "metadata": {},
   "outputs": [
    {
     "data": {
      "text/plain": [
       "({0: array([6.2973684210526315, 2.8631578947368417, 4.8500000000000005,\n",
       "         1.531578947368421], dtype=object),\n",
       "  1: array([4.747761194029852, 3.1731343283582087, 1.4522388059701492,\n",
       "         0.2208955223880596], dtype=object),\n",
       "  2: array([5.268888888888889, 3.7155555555555564, 1.4711111111111108,\n",
       "         0.2755555555555555], dtype=object)},\n",
       " {0: [array([5.7, 2.8, 4.5, 1.3], dtype=object),\n",
       "   array([6.6, 2.9, 4.6, 1.3], dtype=object),\n",
       "   array([6.8, 2.8, 4.8, 1.4], dtype=object),\n",
       "   array([6.8, 2.8, 4.8, 1.4], dtype=object),\n",
       "   array([6.1, 2.9, 4.7, 1.4], dtype=object),\n",
       "   array([6.0, 2.7, 5.1, 1.6], dtype=object),\n",
       "   array([5.6, 2.5, 3.9, 1.1], dtype=object),\n",
       "   array([6.4, 3.2, 4.5, 1.5], dtype=object),\n",
       "   array([6.3, 3.3, 4.7, 1.6], dtype=object),\n",
       "   array([5.5, 2.4, 3.8, 1.1], dtype=object),\n",
       "   array([5.5, 2.5, 4.0, 1.3], dtype=object),\n",
       "   array([7.1, 3.0, 5.9, 2.1], dtype=object),\n",
       "   array([5.7, 2.8, 4.5, 1.3], dtype=object),\n",
       "   array([6.2, 2.9, 4.3, 1.3], dtype=object),\n",
       "   array([7.6, 3.0, 6.6, 2.1], dtype=object),\n",
       "   array([6.7, 3.0, 5.0, 1.7], dtype=object),\n",
       "   array([6.0, 2.9, 4.5, 1.5], dtype=object),\n",
       "   array([6.1, 2.9, 4.7, 1.4], dtype=object),\n",
       "   array([5.9, 3.2, 4.8, 1.8], dtype=object),\n",
       "   array([6.0, 2.2, 4.0, 1.0], dtype=object),\n",
       "   array([5.4, 3.0, 4.5, 1.5], dtype=object),\n",
       "   array([6.7, 2.5, 5.8, 1.8], dtype=object),\n",
       "   array([6.1, 3.0, 4.6, 1.4], dtype=object),\n",
       "   array([6.0, 2.2, 5.0, 1.5], dtype=object),\n",
       "   array([7.7, 3.8, 6.7, 2.2], dtype=object),\n",
       "   array([7.0, 3.2, 4.7, 1.4], dtype=object),\n",
       "   array([6.3, 3.3, 4.7, 1.6], dtype=object),\n",
       "   array([6.6, 3.0, 4.4, 1.4], dtype=object),\n",
       "   array([5.8, 2.7, 5.1, 1.9], dtype=object),\n",
       "   array([5.5, 2.6, 4.4, 1.2], dtype=object),\n",
       "   array([5.5, 2.6, 4.4, 1.2], dtype=object),\n",
       "   array([6.9, 3.1, 4.9, 1.5], dtype=object),\n",
       "   array([7.2, 3.0, 5.8, 1.6], dtype=object),\n",
       "   array([5.8, 2.7, 4.1, 1.0], dtype=object),\n",
       "   array([6.3, 2.3, 4.4, 1.3], dtype=object),\n",
       "   array([6.7, 2.5, 5.8, 1.8], dtype=object),\n",
       "   array([6.3, 3.4, 5.6, 2.4], dtype=object),\n",
       "   array([6.9, 3.2, 5.7, 2.3], dtype=object)],\n",
       "  1: [array([4.9, 3.0, 1.4, 0.2], dtype=object),\n",
       "   array([4.7, 3.2, 1.3, 0.2], dtype=object),\n",
       "   array([4.7, 3.2, 1.3, 0.2], dtype=object),\n",
       "   array([4.7, 3.2, 1.3, 0.2], dtype=object),\n",
       "   array([4.6, 3.1, 1.5, 0.2], dtype=object),\n",
       "   array([4.9, 3.0, 1.4, 0.2], dtype=object),\n",
       "   array([4.9, 3.1, 1.5, 0.1], dtype=object),\n",
       "   array([4.9, 3.0, 1.4, 0.2], dtype=object),\n",
       "   array([4.9, 3.1, 1.5, 0.1], dtype=object),\n",
       "   array([4.8, 3.4, 1.6, 0.2], dtype=object),\n",
       "   array([4.8, 3.4, 1.6, 0.2], dtype=object),\n",
       "   array([4.7, 3.2, 1.3, 0.2], dtype=object),\n",
       "   array([4.8, 3.0, 1.4, 0.1], dtype=object),\n",
       "   array([4.6, 3.1, 1.5, 0.2], dtype=object),\n",
       "   array([4.6, 3.6, 1.0, 0.2], dtype=object),\n",
       "   array([4.3, 3.0, 1.1, 0.1], dtype=object),\n",
       "   array([5.1, 3.3, 1.7, 0.5], dtype=object),\n",
       "   array([4.6, 3.1, 1.5, 0.2], dtype=object),\n",
       "   array([4.7, 3.2, 1.3, 0.2], dtype=object),\n",
       "   array([4.8, 3.4, 1.9, 0.2], dtype=object),\n",
       "   array([4.9, 3.1, 1.5, 0.1], dtype=object),\n",
       "   array([5.0, 3.4, 1.6, 0.4], dtype=object),\n",
       "   array([5.0, 3.4, 1.5, 0.2], dtype=object),\n",
       "   array([4.4, 2.9, 1.4, 0.2], dtype=object),\n",
       "   array([4.6, 3.6, 1.0, 0.2], dtype=object),\n",
       "   array([4.8, 3.4, 1.6, 0.2], dtype=object),\n",
       "   array([4.8, 3.1, 1.6, 0.2], dtype=object),\n",
       "   array([4.7, 3.2, 1.3, 0.2], dtype=object),\n",
       "   array([4.6, 3.1, 1.5, 0.2], dtype=object),\n",
       "   array([4.4, 2.9, 1.4, 0.2], dtype=object),\n",
       "   array([4.9, 3.1, 1.5, 0.1], dtype=object),\n",
       "   array([4.4, 3.0, 1.3, 0.2], dtype=object),\n",
       "   array([4.9, 3.1, 1.5, 0.1], dtype=object),\n",
       "   array([4.7, 3.2, 1.3, 0.2], dtype=object),\n",
       "   array([5.0, 3.4, 1.6, 0.4], dtype=object),\n",
       "   array([4.6, 3.6, 1.0, 0.2], dtype=object),\n",
       "   array([4.7, 3.2, 1.3, 0.2], dtype=object),\n",
       "   array([4.4, 3.2, 1.3, 0.2], dtype=object),\n",
       "   array([4.9, 3.1, 1.5, 0.1], dtype=object),\n",
       "   array([4.7, 3.2, 1.6, 0.2], dtype=object),\n",
       "   array([5.0, 3.4, 1.5, 0.2], dtype=object),\n",
       "   array([4.5, 2.3, 1.3, 0.3], dtype=object),\n",
       "   array([4.8, 3.4, 1.6, 0.2], dtype=object),\n",
       "   array([4.8, 3.4, 1.6, 0.2], dtype=object),\n",
       "   array([4.8, 3.1, 1.6, 0.2], dtype=object),\n",
       "   array([4.4, 3.2, 1.3, 0.2], dtype=object),\n",
       "   array([4.4, 3.0, 1.3, 0.2], dtype=object),\n",
       "   array([4.9, 3.1, 1.5, 0.1], dtype=object),\n",
       "   array([4.9, 3.1, 1.5, 0.1], dtype=object),\n",
       "   array([4.8, 3.1, 1.6, 0.2], dtype=object),\n",
       "   array([4.6, 3.6, 1.0, 0.2], dtype=object),\n",
       "   array([4.4, 3.2, 1.3, 0.2], dtype=object),\n",
       "   array([4.4, 3.2, 1.3, 0.2], dtype=object),\n",
       "   array([4.6, 3.1, 1.5, 0.2], dtype=object),\n",
       "   array([5.0, 3.3, 1.4, 0.2], dtype=object),\n",
       "   array([4.9, 3.0, 1.4, 0.2], dtype=object),\n",
       "   array([5.0, 3.4, 1.6, 0.4], dtype=object),\n",
       "   array([4.9, 3.1, 1.5, 0.1], dtype=object),\n",
       "   array([5.1, 2.5, 3.0, 1.1], dtype=object),\n",
       "   array([4.6, 3.4, 1.4, 0.3], dtype=object),\n",
       "   array([4.8, 3.0, 1.4, 0.3], dtype=object),\n",
       "   array([4.9, 3.0, 1.4, 0.2], dtype=object),\n",
       "   array([4.6, 3.4, 1.4, 0.3], dtype=object),\n",
       "   array([5.0, 3.0, 1.6, 0.2], dtype=object),\n",
       "   array([4.6, 3.2, 1.4, 0.2], dtype=object),\n",
       "   array([4.9, 3.0, 1.4, 0.2], dtype=object),\n",
       "   array([5.1, 3.3, 1.7, 0.5], dtype=object)],\n",
       "  2: [array([5.1, 3.5, 1.4, 0.2], dtype=object),\n",
       "   array([5.0, 3.6, 1.4, 0.2], dtype=object),\n",
       "   array([5.1, 3.5, 1.4, 0.2], dtype=object),\n",
       "   array([5.0, 3.6, 1.4, 0.2], dtype=object),\n",
       "   array([5.8, 4.0, 1.2, 0.2], dtype=object),\n",
       "   array([5.4, 3.9, 1.3, 0.4], dtype=object),\n",
       "   array([5.7, 4.4, 1.5, 0.4], dtype=object),\n",
       "   array([5.4, 3.7, 1.5, 0.2], dtype=object),\n",
       "   array([5.4, 3.9, 1.3, 0.4], dtype=object),\n",
       "   array([5.4, 3.9, 1.3, 0.4], dtype=object),\n",
       "   array([5.1, 3.7, 1.5, 0.4], dtype=object),\n",
       "   array([5.1, 3.5, 1.4, 0.3], dtype=object),\n",
       "   array([5.1, 3.8, 1.5, 0.3], dtype=object),\n",
       "   array([5.7, 4.4, 1.5, 0.4], dtype=object),\n",
       "   array([5.1, 3.8, 1.6, 0.2], dtype=object),\n",
       "   array([5.4, 3.7, 1.5, 0.2], dtype=object),\n",
       "   array([5.0, 3.5, 1.3, 0.3], dtype=object),\n",
       "   array([5.4, 3.4, 1.5, 0.4], dtype=object),\n",
       "   array([5.1, 3.8, 1.6, 0.2], dtype=object),\n",
       "   array([5.1, 3.8, 1.6, 0.2], dtype=object),\n",
       "   array([5.1, 3.4, 1.5, 0.2], dtype=object),\n",
       "   array([5.0, 3.5, 1.3, 0.3], dtype=object),\n",
       "   array([5.2, 3.5, 1.5, 0.2], dtype=object),\n",
       "   array([5.5, 3.5, 1.3, 0.2], dtype=object),\n",
       "   array([5.1, 3.8, 1.9, 0.4], dtype=object),\n",
       "   array([5.1, 3.5, 1.4, 0.3], dtype=object),\n",
       "   array([5.3, 3.7, 1.5, 0.2], dtype=object),\n",
       "   array([5.4, 3.9, 1.3, 0.4], dtype=object),\n",
       "   array([5.2, 4.1, 1.5, 0.1], dtype=object),\n",
       "   array([5.0, 3.5, 1.3, 0.3], dtype=object),\n",
       "   array([5.4, 3.4, 1.7, 0.2], dtype=object),\n",
       "   array([5.5, 4.2, 1.4, 0.2], dtype=object),\n",
       "   array([5.4, 3.4, 1.7, 0.2], dtype=object),\n",
       "   array([5.4, 3.9, 1.7, 0.4], dtype=object),\n",
       "   array([5.0, 3.5, 1.3, 0.3], dtype=object),\n",
       "   array([5.0, 3.6, 1.4, 0.2], dtype=object),\n",
       "   array([5.0, 3.6, 1.4, 0.2], dtype=object),\n",
       "   array([5.4, 3.4, 1.7, 0.2], dtype=object),\n",
       "   array([5.2, 4.1, 1.5, 0.1], dtype=object),\n",
       "   array([5.4, 3.9, 1.7, 0.4], dtype=object),\n",
       "   array([5.5, 4.2, 1.4, 0.2], dtype=object),\n",
       "   array([5.4, 3.4, 1.5, 0.4], dtype=object),\n",
       "   array([5.5, 3.5, 1.3, 0.2], dtype=object),\n",
       "   array([5.7, 3.8, 1.7, 0.3], dtype=object),\n",
       "   array([5.0, 3.5, 1.6, 0.6], dtype=object)]})"
      ]
     },
     "execution_count": 8,
     "metadata": {},
     "output_type": "execute_result"
    }
   ],
   "source": [
    "def k_means(data,k,seed):\n",
    "###Set random seeds to ensure recurrence\n",
    "    random.seed(seed) \n",
    "###Converts the data format to array    \n",
    "    data=np.array(data.values)\n",
    "###Initial cluster center\n",
    "    center={}\n",
    "    count=len(data) #Count the number of instants\n",
    "###enumerate() function is used to convert an traversable data object (such as a list, tuple, or string)\n",
    "###Combine into an index sequence, listing both data and data subscripts\n",
    "    for ki , i in enumerate(random.sample(range(count),k)):\n",
    "        center[ki]=data[i]  ###Write first_point to the dictionary for subsequent updates\n",
    "    while True :\n",
    "        clusters={}\n",
    "        for i in range(k):\n",
    "            clusters[i]=[] ###Clear dict for easy refresh\n",
    "        \n",
    "        for i1 in data:  \n",
    "            distance_list=[] \n",
    "            for i2 in center:\n",
    "                ###Calculate the distance between the center and the sample point\n",
    "                d=compute_distance(i1,center[i2])\n",
    "                distance_list.append(d)\n",
    "            ki=np.argmin(distance_list) ###Add the nearest point\n",
    "            ###argmin() Specifies the index of the minimum value in the array\n",
    "            clusters[ki].append(i1) ###Add the sample to the ki cluster\n",
    "        pre_center=center.copy() #The previous center point needs to be recorded as a stop condition\n",
    "        \n",
    "        for c in clusters.keys():\n",
    "            ###Reset the center point and replace it with the mean point\n",
    "            center[c]=np.mean(clusters[c],axis=0)\n",
    "        end=True\n",
    "        for c in center:\n",
    "            if compute_distance(pre_center[c],center[c])>0:\n",
    "                end=False ###If the cluster center changes, continue\n",
    "                break\n",
    "        if end==True: ###If the mean doesn't change then stop\n",
    "            break\n",
    "    return center,clusters\n",
    "\n",
    "k_means(iris,3,5)"
   ]
  },
  {
   "cell_type": "markdown",
   "metadata": {},
   "source": [
    "## Plot scatter plots\n",
    "Use matplotlib.pyplot to plot scatter plots and use different colors depending on species or clusters"
   ]
  },
  {
   "cell_type": "code",
   "execution_count": 9,
   "metadata": {},
   "outputs": [
    {
     "data": {
      "image/png": "[encoded data removed]",
      "text/plain": [
       "<Figure size 640x480 with 1 Axes>"
      ]
     },
     "metadata": {},
     "output_type": "display_data"
    }
   ],
   "source": [
    "import matplotlib.pyplot as plt \n",
    "k1,points1=k_means(iris,3,14)\n",
    "for i in k1:\n",
    "    plt.scatter(k1[i][0],k1[i][1],marker='*',s=100)\n",
    "colors =['r','g','b','m','c','y']\n",
    "for c in points1:\n",
    "    for p in points1[c]:\n",
    "        plt.scatter(p[0],p[1],c=colors[c],s=20)"
   ]
  },
  {
   "cell_type": "code",
   "execution_count": 10,
   "metadata": {},
   "outputs": [
    {
     "data": {
      "image/png": "[encoded data removed]",
      "text/plain": [
       "<Figure size 640x480 with 1 Axes>"
      ]
     },
     "metadata": {},
     "output_type": "display_data"
    }
   ],
   "source": [
    "import matplotlib.pyplot as plt \n",
    "k,points=k_means(iris,3,6)\n",
    "for i in k:\n",
    "    plt.scatter(k[i][0],k[i][1],marker='*',s=100)\n",
    "colors =['r','g','b','m','c','y']\n",
    "for c in points:\n",
    "    for p in points[c]:\n",
    "        plt.scatter(p[0],p[1],c=colors[c],s=20)"
   ]
  },
  {
   "cell_type": "markdown",
   "metadata": {},
   "source": [
    "### Original Graph"
   ]
  },
  {
   "cell_type": "code",
   "execution_count": 11,
   "metadata": {},
   "outputs": [
    {
     "data": {
      "image/png": "[encoded data removed]",
      "text/plain": [
       "<Figure size 640x480 with 1 Axes>"
      ]
     },
     "metadata": {},
     "output_type": "display_data"
    }
   ],
   "source": [
    "df=pd.read_csv('./iris/iris.data',header=None)\n",
    "iris_graph=pd.DataFrame(df_array,columns=['sepal_length','sepal_width','petal_length','petal_width','class'])##添加col_name\n",
    "x_axis = iris_graph['sepal_length']\n",
    "y_axis = iris_graph['sepal_width']\n",
    " \n",
    "#c指定点的颜色，当c赋值为数值时，会根据值的不同自动着色\n",
    "color_map = {'Iris-setosa': 'red', 'Iris-versicolor': 'green', 'Iris-virginica': 'blue'}\n",
    "colors = iris_graph['class'].map(color_map)\n",
    "c = iris_graph['class'].map(color_map)\n",
    "plt.scatter(x_axis, y_axis,c=c,s=20)\n",
    "plt.show()"
   ]
  },
  {
   "cell_type": "markdown",
   "metadata": {},
   "source": [
    "As can be seen from the three graphs drawn above, the clustering effect of different initial points is very different, some effect is very good, and some effect is very poor. Therefore, when carrying out kmeans clustering, different central points should be selected as far as possible to try the calculation several times, and the results with the best effect should be selected for analysis."
   ]
  },
  {
   "cell_type": "markdown",
   "metadata": {},
   "source": [
    "###  Clustering Measurement\n",
    "\n",
    "Themutual information between the predicted cluster Ω and the true class C is computed by\n",
    "\n",
    "$$ I(\\Omega,C) = \\sum_{k,j}{P(w_k\\cap c_j)log\\frac{P(w_k\\cap c_j)}{P(w_k)\\cap P(c_j)}} $$\n",
    "\n",
    " where $P(ω_k)$, $P(c_j)$ and $P(ω_k\\cap c_j)$ are the probabilities of the instance being in the cluster $ω_k$, in the\n",
    " class $c_j$, and in the intersection of $ω_k$ and $c_j$, respectively.\n",
    "\n",
    "\n",
    "\n"
   ]
  },
  {
   "cell_type": "markdown",
   "metadata": {},
   "source": [
    "We choose the second clustering result with good effect to calculate the NMI value"
   ]
  },
  {
   "cell_type": "code",
   "execution_count": 12,
   "metadata": {},
   "outputs": [
    {
     "name": "stdout",
     "output_type": "stream",
     "text": [
      "8 111 31\n",
      "150\n"
     ]
    }
   ],
   "source": [
    "###View each cluster and the number of samples in each category\n",
    "print(len(points[0]),len(points[1]),len(points[2]))\n",
    "print(len(iris_graph.values))"
   ]
  },
  {
   "cell_type": "markdown",
   "metadata": {},
   "source": [
    "### Compute $P(w_{ik})$"
   ]
  },
  {
   "cell_type": "code",
   "execution_count": 13,
   "metadata": {},
   "outputs": [
    {
     "name": "stdout",
     "output_type": "stream",
     "text": [
      "[0.05333333333333334, 0.74, 0.20666666666666667]\n"
     ]
    }
   ],
   "source": [
    "P_wik=[]\n",
    "for i in points:\n",
    "    P_wik.append(len(points[i])/len(iris.values))\n",
    "print(P_wik)\n"
   ]
  },
  {
   "cell_type": "markdown",
   "metadata": {},
   "source": [
    "### Comput $P(c_{ij})$"
   ]
  },
  {
   "cell_type": "code",
   "execution_count": 13,
   "metadata": {},
   "outputs": [
    {
     "name": "stdout",
     "output_type": "stream",
     "text": [
      "                 sepal_length  sepal_width  petal_length  petal_width\n",
      "class                                                                \n",
      "Iris-setosa               111          111           111          111\n",
      "Iris-versicolor            29           29            29           29\n",
      "Iris-virginica             10           10            10           10\n",
      "[0.74, 0.19333333333333333, 0.06666666666666667]\n"
     ]
    }
   ],
   "source": [
    "print(iris_graph.groupby('class').count())\n",
    "P_cij=[]\n",
    "for i in [111,29,10]:\n",
    "    P_cij.append(i/len(iris_graph.values))\n",
    "print(P_cij)"
   ]
  },
  {
   "cell_type": "markdown",
   "metadata": {},
   "source": [
    "### Compute $P(w_k\\cap c_j)$"
   ]
  },
  {
   "cell_type": "markdown",
   "metadata": {},
   "source": [
    "\n",
    "Because python can't compute the intersection of two-dimensional arrays, you can use tuple() to convert the elements in the list into tuples"
   ]
  },
  {
   "cell_type": "code",
   "execution_count": 14,
   "metadata": {},
   "outputs": [],
   "source": [
    "###将原数据按照不同的iris种类分组\n",
    "setosa=iris_graph.loc[iris_graph['class']=='Iris-setosa',:].iloc[:,0:-1]\n",
    "versicolor=iris_graph.loc[iris_graph['class']=='Iris-versicolor',:].iloc[:,0:-1]\n",
    "virginica=iris_graph.loc[iris_graph['class']=='Iris-virginica',:].iloc[:,0:-1]\n",
    "class_list=[setosa,versicolor,virginica]"
   ]
  },
  {
   "cell_type": "markdown",
   "metadata": {},
   "source": [
    "Turn it into a two-dimensional list first"
   ]
  },
  {
   "cell_type": "code",
   "execution_count": 24,
   "metadata": {},
   "outputs": [
    {
     "name": "stdout",
     "output_type": "stream",
     "text": [
      "[[(5.1, 3.5, 1.4, 0.2), (4.9, 3.0, 1.4, 0.2), (4.7, 3.2, 1.3, 0.2), (4.7, 3.2, 1.3, 0.2), (5.0, 3.6, 1.4, 0.2), (4.7, 3.2, 1.3, 0.2), (5.1, 3.5, 1.4, 0.2), (5.0, 3.6, 1.4, 0.2), (4.6, 3.1, 1.5, 0.2), (4.9, 3.0, 1.4, 0.2), (4.9, 3.1, 1.5, 0.1), (4.9, 3.0, 1.4, 0.2), (4.9, 3.1, 1.5, 0.1), (4.8, 3.4, 1.6, 0.2), (4.8, 3.4, 1.6, 0.2), (5.8, 4.0, 1.2, 0.2), (5.4, 3.9, 1.3, 0.4), (4.7, 3.2, 1.3, 0.2), (4.8, 3.0, 1.4, 0.1), (5.7, 4.4, 1.5, 0.4), (4.6, 3.1, 1.5, 0.2), (5.4, 3.7, 1.5, 0.2), (4.6, 3.6, 1.0, 0.2), (5.4, 3.9, 1.3, 0.4), (5.4, 3.9, 1.3, 0.4), (5.1, 3.7, 1.5, 0.4), (4.3, 3.0, 1.1, 0.1), (5.1, 3.3, 1.7, 0.5), (4.6, 3.1, 1.5, 0.2), (4.7, 3.2, 1.3, 0.2), (4.8, 3.4, 1.9, 0.2), (4.9, 3.1, 1.5, 0.1), (5.0, 3.4, 1.6, 0.4), (5.0, 3.4, 1.5, 0.2), (4.4, 2.9, 1.4, 0.2), (5.1, 3.5, 1.4, 0.3), (4.6, 3.6, 1.0, 0.2), (4.8, 3.4, 1.6, 0.2), (5.1, 3.8, 1.5, 0.3), (4.8, 3.1, 1.6, 0.2), (4.7, 3.2, 1.3, 0.2), (4.6, 3.1, 1.5, 0.2), (4.4, 2.9, 1.4, 0.2), (4.9, 3.1, 1.5, 0.1), (4.4, 3.0, 1.3, 0.2), (5.7, 4.4, 1.5, 0.4), (4.9, 3.1, 1.5, 0.1), (5.1, 3.8, 1.6, 0.2), (5.4, 3.7, 1.5, 0.2), (4.7, 3.2, 1.3, 0.2), (5.0, 3.5, 1.3, 0.3), (5.0, 3.4, 1.6, 0.4), (4.6, 3.6, 1.0, 0.2), (5.4, 3.4, 1.5, 0.4), (5.1, 3.8, 1.6, 0.2), (5.1, 3.8, 1.6, 0.2), (4.7, 3.2, 1.3, 0.2), (4.4, 3.2, 1.3, 0.2), (5.1, 3.4, 1.5, 0.2), (4.9, 3.1, 1.5, 0.1), (4.7, 3.2, 1.6, 0.2), (5.0, 3.5, 1.3, 0.3), (5.2, 3.5, 1.5, 0.2), (5.5, 3.5, 1.3, 0.2), (5.1, 3.8, 1.9, 0.4), (5.1, 3.5, 1.4, 0.3), (5.0, 3.4, 1.5, 0.2), (4.5, 2.3, 1.3, 0.3), (4.8, 3.4, 1.6, 0.2), (4.8, 3.4, 1.6, 0.2), (4.8, 3.1, 1.6, 0.2), (5.3, 3.7, 1.5, 0.2), (4.4, 3.2, 1.3, 0.2), (4.4, 3.0, 1.3, 0.2), (4.9, 3.1, 1.5, 0.1), (5.4, 3.9, 1.3, 0.4), (5.2, 4.1, 1.5, 0.1), (5.0, 3.5, 1.3, 0.3), (5.4, 3.4, 1.7, 0.2), (5.5, 4.2, 1.4, 0.2), (5.4, 3.4, 1.7, 0.2), (5.4, 3.9, 1.7, 0.4), (4.9, 3.1, 1.5, 0.1), (5.0, 3.5, 1.3, 0.3), (4.8, 3.1, 1.6, 0.2), (5.0, 3.6, 1.4, 0.2), (4.6, 3.6, 1.0, 0.2), (4.4, 3.2, 1.3, 0.2), (5.0, 3.6, 1.4, 0.2), (4.4, 3.2, 1.3, 0.2), (4.6, 3.1, 1.5, 0.2), (5.0, 3.3, 1.4, 0.2), (4.9, 3.0, 1.4, 0.2), (5.0, 3.4, 1.6, 0.4), (4.9, 3.1, 1.5, 0.1), (4.6, 3.4, 1.4, 0.3), (4.8, 3.0, 1.4, 0.3), (4.9, 3.0, 1.4, 0.2), (4.6, 3.4, 1.4, 0.3), (5.4, 3.4, 1.7, 0.2), (5.2, 4.1, 1.5, 0.1), (5.4, 3.9, 1.7, 0.4), (5.0, 3.0, 1.6, 0.2), (5.5, 4.2, 1.4, 0.2), (5.4, 3.4, 1.5, 0.4), (5.5, 3.5, 1.3, 0.2), (4.6, 3.2, 1.4, 0.2), (4.9, 3.0, 1.4, 0.2), (5.7, 3.8, 1.7, 0.3), (5.1, 3.3, 1.7, 0.5), (5.0, 3.5, 1.6, 0.6)], [(5.7, 2.8, 4.5, 1.3), (6.6, 2.9, 4.6, 1.3), (6.8, 2.8, 4.8, 1.4), (6.8, 2.8, 4.8, 1.4), (6.1, 2.9, 4.7, 1.4), (6.0, 2.7, 5.1, 1.6), (5.6, 2.5, 3.9, 1.1), (6.4, 3.2, 4.5, 1.5), (6.3, 3.3, 4.7, 1.6), (5.5, 2.4, 3.8, 1.1), (5.5, 2.5, 4.0, 1.3), (5.7, 2.8, 4.5, 1.3), (6.2, 2.9, 4.3, 1.3), (6.7, 3.0, 5.0, 1.7), (5.1, 2.5, 3.0, 1.1), (6.0, 2.9, 4.5, 1.5), (6.1, 2.9, 4.7, 1.4), (5.9, 3.2, 4.8, 1.8), (6.0, 2.2, 4.0, 1.0), (5.4, 3.0, 4.5, 1.5), (6.1, 3.0, 4.6, 1.4), (7.0, 3.2, 4.7, 1.4), (6.3, 3.3, 4.7, 1.6), (6.6, 3.0, 4.4, 1.4), (5.5, 2.6, 4.4, 1.2), (5.5, 2.6, 4.4, 1.2), (6.9, 3.1, 4.9, 1.5), (5.8, 2.7, 4.1, 1.0), (6.3, 2.3, 4.4, 1.3)], [(7.1, 3.0, 5.9, 2.1), (7.6, 3.0, 6.6, 2.1), (6.7, 2.5, 5.8, 1.8), (6.0, 2.2, 5.0, 1.5), (7.7, 3.8, 6.7, 2.2), (5.8, 2.7, 5.1, 1.9), (7.2, 3.0, 5.8, 1.6), (6.7, 2.5, 5.8, 1.8), (6.3, 3.4, 5.6, 2.4), (6.9, 3.2, 5.7, 2.3)]]\n",
      "111 29 10\n"
     ]
    }
   ],
   "source": [
    "set_1=[]\n",
    "for c in class_list:\n",
    "    k=np.array(c).tolist()\n",
    "    sub_set=[]\n",
    "    for i in k:\n",
    "        sub_set.append(tuple(j for j in i))\n",
    "    set_1.append(sub_set)\n",
    "print(set_1)\n",
    "print(len(set_1[0]),len(set_1[1]),len(set_1[2]))"
   ]
  },
  {
   "cell_type": "markdown",
   "metadata": {},
   "source": [
    "'Points' are samples divided by three clusters"
   ]
  },
  {
   "cell_type": "code",
   "execution_count": 16,
   "metadata": {},
   "outputs": [
    {
     "data": {
      "text/plain": [
       "array([[7.1, 3.0, 5.9, 2.1],\n",
       "       [7.6, 3.0, 6.6, 2.1],\n",
       "       [6.7, 2.5, 5.8, 1.8],\n",
       "       [7.7, 3.8, 6.7, 2.2],\n",
       "       [7.2, 3.0, 5.8, 1.6],\n",
       "       [6.7, 2.5, 5.8, 1.8],\n",
       "       [6.3, 3.4, 5.6, 2.4],\n",
       "       [6.9, 3.2, 5.7, 2.3]], dtype=object)"
      ]
     },
     "execution_count": 16,
     "metadata": {},
     "output_type": "execute_result"
    }
   ],
   "source": [
    "np.array(points[0])"
   ]
  },
  {
   "cell_type": "code",
   "execution_count": 25,
   "metadata": {},
   "outputs": [
    {
     "name": "stdout",
     "output_type": "stream",
     "text": [
      "[[(7.1, 3.0, 5.9, 2.1), (7.6, 3.0, 6.6, 2.1), (6.7, 2.5, 5.8, 1.8), (7.7, 3.8, 6.7, 2.2), (7.2, 3.0, 5.8, 1.6), (6.7, 2.5, 5.8, 1.8), (6.3, 3.4, 5.6, 2.4), (6.9, 3.2, 5.7, 2.3)], [(5.1, 3.5, 1.4, 0.2), (4.9, 3.0, 1.4, 0.2), (4.7, 3.2, 1.3, 0.2), (4.7, 3.2, 1.3, 0.2), (5.0, 3.6, 1.4, 0.2), (4.7, 3.2, 1.3, 0.2), (5.1, 3.5, 1.4, 0.2), (5.0, 3.6, 1.4, 0.2), (4.6, 3.1, 1.5, 0.2), (4.9, 3.0, 1.4, 0.2), (4.9, 3.1, 1.5, 0.1), (4.9, 3.0, 1.4, 0.2), (4.9, 3.1, 1.5, 0.1), (4.8, 3.4, 1.6, 0.2), (4.8, 3.4, 1.6, 0.2), (5.8, 4.0, 1.2, 0.2), (5.4, 3.9, 1.3, 0.4), (4.7, 3.2, 1.3, 0.2), (4.8, 3.0, 1.4, 0.1), (5.7, 4.4, 1.5, 0.4), (4.6, 3.1, 1.5, 0.2), (5.4, 3.7, 1.5, 0.2), (4.6, 3.6, 1.0, 0.2), (5.4, 3.9, 1.3, 0.4), (5.4, 3.9, 1.3, 0.4), (5.1, 3.7, 1.5, 0.4), (4.3, 3.0, 1.1, 0.1), (5.1, 3.3, 1.7, 0.5), (4.6, 3.1, 1.5, 0.2), (4.7, 3.2, 1.3, 0.2), (4.8, 3.4, 1.9, 0.2), (4.9, 3.1, 1.5, 0.1), (5.0, 3.4, 1.6, 0.4), (5.0, 3.4, 1.5, 0.2), (4.4, 2.9, 1.4, 0.2), (5.1, 3.5, 1.4, 0.3), (4.6, 3.6, 1.0, 0.2), (4.8, 3.4, 1.6, 0.2), (5.1, 3.8, 1.5, 0.3), (4.8, 3.1, 1.6, 0.2), (4.7, 3.2, 1.3, 0.2), (4.6, 3.1, 1.5, 0.2), (4.4, 2.9, 1.4, 0.2), (4.9, 3.1, 1.5, 0.1), (4.4, 3.0, 1.3, 0.2), (5.7, 4.4, 1.5, 0.4), (4.9, 3.1, 1.5, 0.1), (5.1, 3.8, 1.6, 0.2), (5.4, 3.7, 1.5, 0.2), (4.7, 3.2, 1.3, 0.2), (5.0, 3.5, 1.3, 0.3), (5.0, 3.4, 1.6, 0.4), (4.6, 3.6, 1.0, 0.2), (5.4, 3.4, 1.5, 0.4), (5.1, 3.8, 1.6, 0.2), (5.1, 3.8, 1.6, 0.2), (4.7, 3.2, 1.3, 0.2), (4.4, 3.2, 1.3, 0.2), (5.1, 3.4, 1.5, 0.2), (4.9, 3.1, 1.5, 0.1), (4.7, 3.2, 1.6, 0.2), (5.0, 3.5, 1.3, 0.3), (5.2, 3.5, 1.5, 0.2), (5.5, 3.5, 1.3, 0.2), (5.1, 3.8, 1.9, 0.4), (5.1, 3.5, 1.4, 0.3), (5.0, 3.4, 1.5, 0.2), (4.5, 2.3, 1.3, 0.3), (4.8, 3.4, 1.6, 0.2), (4.8, 3.4, 1.6, 0.2), (4.8, 3.1, 1.6, 0.2), (5.3, 3.7, 1.5, 0.2), (4.4, 3.2, 1.3, 0.2), (4.4, 3.0, 1.3, 0.2), (4.9, 3.1, 1.5, 0.1), (5.4, 3.9, 1.3, 0.4), (5.2, 4.1, 1.5, 0.1), (5.0, 3.5, 1.3, 0.3), (5.4, 3.4, 1.7, 0.2), (5.5, 4.2, 1.4, 0.2), (5.4, 3.4, 1.7, 0.2), (5.4, 3.9, 1.7, 0.4), (4.9, 3.1, 1.5, 0.1), (5.0, 3.5, 1.3, 0.3), (4.8, 3.1, 1.6, 0.2), (5.0, 3.6, 1.4, 0.2), (4.6, 3.6, 1.0, 0.2), (4.4, 3.2, 1.3, 0.2), (5.0, 3.6, 1.4, 0.2), (4.4, 3.2, 1.3, 0.2), (4.6, 3.1, 1.5, 0.2), (5.0, 3.3, 1.4, 0.2), (4.9, 3.0, 1.4, 0.2), (5.0, 3.4, 1.6, 0.4), (4.9, 3.1, 1.5, 0.1), (4.6, 3.4, 1.4, 0.3), (4.8, 3.0, 1.4, 0.3), (4.9, 3.0, 1.4, 0.2), (4.6, 3.4, 1.4, 0.3), (5.4, 3.4, 1.7, 0.2), (5.2, 4.1, 1.5, 0.1), (5.4, 3.9, 1.7, 0.4), (5.0, 3.0, 1.6, 0.2), (5.5, 4.2, 1.4, 0.2), (5.4, 3.4, 1.5, 0.4), (5.5, 3.5, 1.3, 0.2), (4.6, 3.2, 1.4, 0.2), (4.9, 3.0, 1.4, 0.2), (5.7, 3.8, 1.7, 0.3), (5.1, 3.3, 1.7, 0.5), (5.0, 3.5, 1.6, 0.6)], [(5.7, 2.8, 4.5, 1.3), (6.6, 2.9, 4.6, 1.3), (6.8, 2.8, 4.8, 1.4), (6.8, 2.8, 4.8, 1.4), (6.1, 2.9, 4.7, 1.4), (6.0, 2.7, 5.1, 1.6), (5.6, 2.5, 3.9, 1.1), (6.4, 3.2, 4.5, 1.5), (6.3, 3.3, 4.7, 1.6), (5.5, 2.4, 3.8, 1.1), (5.5, 2.5, 4.0, 1.3), (5.7, 2.8, 4.5, 1.3), (6.2, 2.9, 4.3, 1.3), (6.7, 3.0, 5.0, 1.7), (5.1, 2.5, 3.0, 1.1), (6.0, 2.9, 4.5, 1.5), (6.1, 2.9, 4.7, 1.4), (5.9, 3.2, 4.8, 1.8), (6.0, 2.2, 4.0, 1.0), (5.4, 3.0, 4.5, 1.5), (6.1, 3.0, 4.6, 1.4), (6.0, 2.2, 5.0, 1.5), (7.0, 3.2, 4.7, 1.4), (6.3, 3.3, 4.7, 1.6), (6.6, 3.0, 4.4, 1.4), (5.8, 2.7, 5.1, 1.9), (5.5, 2.6, 4.4, 1.2), (5.5, 2.6, 4.4, 1.2), (6.9, 3.1, 4.9, 1.5), (5.8, 2.7, 4.1, 1.0), (6.3, 2.3, 4.4, 1.3)]]\n",
      "111 29 10\n"
     ]
    }
   ],
   "source": [
    "set_2=[]\n",
    "for i in points:\n",
    "    sub_set=[]\n",
    "    k=np.array(points[i])  ###Convert a list to an array\n",
    "    k1=k.tolist()\n",
    "    for j in k1:\n",
    "        k2=tuple(j)\n",
    "        sub_set.append(k2)\n",
    "    set_2.append(sub_set)\n",
    "print(set_2)\n"
   ]
  },
  {
   "cell_type": "markdown",
   "metadata": {},
   "source": [
    "At this point, we convert the two two-dimensional lists into arraylists, so that we can perform intersection operations. According to the arrangement, there should be 3*3=9 intersections.\n",
    "respectivel:y\n",
    "\n",
    "cluster1&setosa, cluster1&versicolor, cluster1&virginica,cluster2&setosa, cluster2&versicolor, cluster2&virginica....cluster3&virginica\n",
    "Using the function Counter(), you can quickly get the number of occurrences of each element in the list.."
   ]
  },
  {
   "cell_type": "code",
   "execution_count": 46,
   "metadata": {},
   "outputs": [
    {
     "data": {
      "text/plain": [
       "Counter({(4.9, 3.1, 1.5, 0.1): 9,\n",
       "         (4.7, 3.2, 1.3, 0.2): 8,\n",
       "         (4.9, 3.0, 1.4, 0.2): 6,\n",
       "         (4.6, 3.1, 1.5, 0.2): 5,\n",
       "         (4.8, 3.4, 1.6, 0.2): 5,\n",
       "         (5.0, 3.6, 1.4, 0.2): 4,\n",
       "         (5.4, 3.9, 1.3, 0.4): 4,\n",
       "         (4.6, 3.6, 1.0, 0.2): 4,\n",
       "         (5.0, 3.5, 1.3, 0.3): 4,\n",
       "         (4.4, 3.2, 1.3, 0.2): 4,\n",
       "         (5.0, 3.4, 1.6, 0.4): 3,\n",
       "         (4.8, 3.1, 1.6, 0.2): 3,\n",
       "         (5.1, 3.8, 1.6, 0.2): 3,\n",
       "         (5.4, 3.4, 1.7, 0.2): 3,\n",
       "         (5.1, 3.5, 1.4, 0.2): 2,\n",
       "         (5.7, 4.4, 1.5, 0.4): 2,\n",
       "         (5.4, 3.7, 1.5, 0.2): 2,\n",
       "         (5.1, 3.3, 1.7, 0.5): 2,\n",
       "         (5.0, 3.4, 1.5, 0.2): 2,\n",
       "         (4.4, 2.9, 1.4, 0.2): 2,\n",
       "         (5.1, 3.5, 1.4, 0.3): 2,\n",
       "         (4.4, 3.0, 1.3, 0.2): 2,\n",
       "         (5.4, 3.4, 1.5, 0.4): 2,\n",
       "         (5.5, 3.5, 1.3, 0.2): 2,\n",
       "         (5.2, 4.1, 1.5, 0.1): 2,\n",
       "         (5.5, 4.2, 1.4, 0.2): 2,\n",
       "         (5.4, 3.9, 1.7, 0.4): 2,\n",
       "         (4.6, 3.4, 1.4, 0.3): 2,\n",
       "         (5.8, 4.0, 1.2, 0.2): 1,\n",
       "         (4.8, 3.0, 1.4, 0.1): 1,\n",
       "         (5.1, 3.7, 1.5, 0.4): 1,\n",
       "         (4.3, 3.0, 1.1, 0.1): 1,\n",
       "         (4.8, 3.4, 1.9, 0.2): 1,\n",
       "         (5.1, 3.8, 1.5, 0.3): 1,\n",
       "         (5.1, 3.4, 1.5, 0.2): 1,\n",
       "         (4.7, 3.2, 1.6, 0.2): 1,\n",
       "         (5.2, 3.5, 1.5, 0.2): 1,\n",
       "         (5.1, 3.8, 1.9, 0.4): 1,\n",
       "         (4.5, 2.3, 1.3, 0.3): 1,\n",
       "         (5.3, 3.7, 1.5, 0.2): 1,\n",
       "         (5.0, 3.3, 1.4, 0.2): 1,\n",
       "         (4.8, 3.0, 1.4, 0.3): 1,\n",
       "         (5.0, 3.0, 1.6, 0.2): 1,\n",
       "         (4.6, 3.2, 1.4, 0.2): 1,\n",
       "         (5.7, 3.8, 1.7, 0.3): 1,\n",
       "         (5.0, 3.5, 1.6, 0.6): 1})"
      ]
     },
     "execution_count": 46,
     "metadata": {},
     "output_type": "execute_result"
    }
   ],
   "source": [
    "###Using the function Counter(), you can quickly get the number of occurrences of each element in the list\n",
    "from collections import Counter \n",
    "Counter(set_1[0])"
   ]
  },
  {
   "cell_type": "code",
   "execution_count": 68,
   "metadata": {},
   "outputs": [
    {
     "name": "stdout",
     "output_type": "stream",
     "text": [
      "[[0, 111, 0], [0, 0, 29], [8, 0, 2]]\n"
     ]
    }
   ],
   "source": [
    "def p_matrix(data1,data2):\n",
    "    ###Using the function Counter(),\n",
    "    ###you can quickly get the number of occurrences of each element in the list\n",
    "    from collections import Counter \n",
    "    p_m=[]\n",
    "    for i in data1:\n",
    "        sub_p_m=[]\n",
    "        c_m=Counter(i)\n",
    "        for j in data2:\n",
    "            k=0\n",
    "            for j2 in set(j):\n",
    "                k=k+c_m[j2]\n",
    "            sub_p_m.append(k)\n",
    "        p_m.append(sub_p_m)\n",
    "    return p_m\n",
    "                  \n",
    "wk_and_cij=p_matrix(set_1,set_2)     \n",
    "print(wk_and_cij)"
   ]
  },
  {
   "cell_type": "markdown",
   "metadata": {},
   "source": [
    "Because the sum of the intersection between the cluster and the original data should be the length of the original data set, we can verify whether the result of the operation is correct. It can be seen that the sum of the intersection is 150, indicating that the result is correct."
   ]
  },
  {
   "cell_type": "code",
   "execution_count": 84,
   "metadata": {},
   "outputs": [
    {
     "name": "stdout",
     "output_type": "stream",
     "text": [
      "[0.0, 0.74, 0.0, 0.0, 0.0, 0.19333333333333333, 0.05333333333333334, 0.0, 0.013333333333333334]\n"
     ]
    }
   ],
   "source": [
    "P_wkandcij=[]\n",
    "for i in wk_and_cij:\n",
    "    for j in i:\n",
    "        p=j/len(iris) ###Calculated probability\n",
    "        P_wkandcij.append(p)\n",
    "print(P_wkandcij)\n"
   ]
  },
  {
   "cell_type": "markdown",
   "metadata": {},
   "source": [
    "# Compute NMI\n",
    "NMI(Normalized Mutual Information).It is commonly used in clustering to measure the similarity of two cluster results (usually we compare the similarity between the cluster results and the real label). Its range is [0,1], and the higher the value, the more similar the two clusters are. Normalization refers to quantifying the similarity value of two clustering results to between 0 and 1. The calculation formula is as follows:\n",
    "\n",
    "$$ NMI(\\Omega,C)= \\frac{I(\\Omega,C)}{[H(\\Omega)+H(C)]/2}   $$\n",
    "where \n",
    "$ H(Ω) = − kP(ω_k)logP(ω_k)$ and $ H(C) = − \\sum_j {P(c_j)logP(c_j)}. $\n",
    "\n"
   ]
  },
  {
   "cell_type": "code",
   "execution_count": 86,
   "metadata": {},
   "outputs": [
    {
     "name": "stdout",
     "output_type": "stream",
     "text": [
      "[0.05333333333333334, 0.74, 0.20666666666666667]\n",
      "[0.06666666666666667, 0.74, 0.19333333333333333]\n",
      "[0.0, 0.74, 0.0, 0.0, 0.0, 0.19333333333333333, 0.05333333333333334, 0.0, 0.013333333333333334]\n"
     ]
    }
   ],
   "source": [
    "print(P_wik)\n",
    "print(P_cij)\n",
    "print(P_wkandcij)"
   ]
  },
  {
   "cell_type": "markdown",
   "metadata": {},
   "source": [
    "Note that each category corresponds to the category of data in the original dataset, and you can select the class that contains the most categories in the cluster sample to correspond!"
   ]
  },
  {
   "cell_type": "markdown",
   "metadata": {},
   "source": [
    "For ease of calculation, convert the third list into a 3 by 3 matrix. This makes it easy to calculate the corresponding product."
   ]
  },
  {
   "cell_type": "code",
   "execution_count": 88,
   "metadata": {},
   "outputs": [
    {
     "name": "stdout",
     "output_type": "stream",
     "text": [
      "[[0.         0.74       0.        ]\n",
      " [0.         0.         0.19333333]\n",
      " [0.05333333 0.         0.01333333]]\n"
     ]
    }
   ],
   "source": [
    "m_wkandcj=np.array(P_wkandcij).reshape(3, 3)\n",
    "print(m_wkandcj)"
   ]
  },
  {
   "cell_type": "code",
   "execution_count": 127,
   "metadata": {},
   "outputs": [],
   "source": [
    "###Here the corresponding order of sample types and clustering categories is different, \n",
    "###so it is necessary to unify the order\n",
    "P_wik=[0.74,0.20666666666666667,0.05333333333333334]\n",
    "P_cij=[0.06666666666666667,0.74,0.19333333333333333]"
   ]
  },
  {
   "cell_type": "code",
   "execution_count": 133,
   "metadata": {},
   "outputs": [
    {
     "name": "stdout",
     "output_type": "stream",
     "text": [
      "0.6754930114168995\n"
     ]
    }
   ],
   "source": [
    "import math\n",
    "def I_omega_c(pwk,pcj,pwicj):\n",
    "    value=0\n",
    "###You must pay attention to the order here, \n",
    "###otherwise the values will correspond incorrectly\n",
    "    for i in range(len(pwk)):\n",
    "        for j in range(len(pcj)):\n",
    "            if pwicj[i,j]!=0:   ###Because you can't take a logarithm of 0\n",
    "                value=pwicj[i,j]*math.log(pwicj[i,j]/(pwk[i]*pcj[j]))+value\n",
    "    return value\n",
    "                \n",
    "i_oc=I_omega_c(P_wik,P_cij,m_wkandcj)\n",
    "print(i_oc)"
   ]
  },
  {
   "cell_type": "markdown",
   "metadata": {},
   "source": [
    "### Compute NMI"
   ]
  },
  {
   "cell_type": "markdown",
   "metadata": {},
   "source": [
    "#### Compute H(Ω) and H(C)"
   ]
  },
  {
   "cell_type": "code",
   "execution_count": 132,
   "metadata": {},
   "outputs": [
    {
     "name": "stdout",
     "output_type": "stream",
     "text": [
      "0.704988707308607 0.7210667451281405\n"
     ]
    }
   ],
   "source": [
    "def h(l):\n",
    "    value=0\n",
    "    for i in l:\n",
    "        value=value-i*math.log(i)\n",
    "    return value\n",
    "h_omega=h(P_wik)\n",
    "h_c=h(P_cij)\n",
    "print(h_omega,h_c)"
   ]
  },
  {
   "cell_type": "code",
   "execution_count": 131,
   "metadata": {},
   "outputs": [
    {
     "name": "stdout",
     "output_type": "stream",
     "text": [
      "0.9473586882791446\n"
     ]
    }
   ],
   "source": [
    "nmi=i_oc/(h_omega+h_c)*2\n",
    "print(nmi)"
   ]
  },
  {
   "cell_type": "markdown",
   "metadata": {},
   "source": [
    "As can be seen from the above results, the NMI value of this clustering result is 0.94736, indicating that the clustering effect is very good, and the common information between the clustering result and the real category reaches 94%. The NMI value of the first cluster with poor effect can be calculated for comparison, and it is found that the NMI of the first cluster with poor effect is far less than 0.94."
   ]
  }
 ],
 "metadata": {
  "kernelspec": {
   "display_name": "base",
   "language": "python",
   "name": "python3"
  },
  "language_info": {
   "codemirror_mode": {
    "name": "ipython",
    "version": 3
   },
   "file_extension": ".py",
   "mimetype": "text/x-python",
   "name": "python",
   "nbconvert_exporter": "python",
   "pygments_lexer": "ipython3",
   "version": "3.12.4"
  }
 },
 "nbformat": 4,
 "nbformat_minor": 4
}
